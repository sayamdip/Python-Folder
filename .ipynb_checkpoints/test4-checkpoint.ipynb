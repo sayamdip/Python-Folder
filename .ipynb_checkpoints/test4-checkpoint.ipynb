{
 "cells": [
  {
   "cell_type": "code",
   "execution_count": null,
   "id": "171acef3-7f39-4592-b105-158a3f083944",
   "metadata": {},
   "outputs": [],
   "source": [
    "a=int(input(\"Enter 1st number=\"))\n",
    "b=int(input(\"Enter 2nd number=\"))"
   ]
  }
 ],
 "metadata": {
  "kernelspec": {
   "display_name": "Python 3 (ipykernel)",
   "language": "python",
   "name": "python3"
  },
  "language_info": {
   "codemirror_mode": {
    "name": "ipython",
    "version": 3
   },
   "file_extension": ".py",
   "mimetype": "text/x-python",
   "name": "python",
   "nbconvert_exporter": "python",
   "pygments_lexer": "ipython3",
   "version": "3.12.4"
  }
 },
 "nbformat": 4,
 "nbformat_minor": 5
}
